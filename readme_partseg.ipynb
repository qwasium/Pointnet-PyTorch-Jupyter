{
 "cells": [
  {
   "cell_type": "markdown",
   "id": "108389f6",
   "metadata": {},
   "source": [
    "# Part Segmentation (ShapeNet)\n",
    "\n",
    "## Jupyter Notebook implementation\n",
    "\n",
    "First read the [README](README.md) file if you're new.\n",
    "\n",
    "This is an example of using the code from Jupyter Notebook.\n",
    "\n",
    "## Contents\n",
    "\n",
    "- [Segmentation Classes](#segmentation-classes)\n",
    "- [Training](#training)\n",
    "- [Testing](#testing)\n",
    "- [Inference](#inference)"
   ]
  },
  {
   "cell_type": "markdown",
   "id": "52137a8e",
   "metadata": {},
   "source": [
    "## Imports"
   ]
  },
  {
   "cell_type": "code",
   "execution_count": null,
   "id": "eb79a3a9",
   "metadata": {},
   "outputs": [],
   "source": [
    "from pprint import pprint\n",
    "from pathlib import Path\n",
    "import json\n",
    "\n",
    "import numpy as np\n",
    "from tqdm import tqdm_notebook as tqdm\n",
    "import torch\n",
    "print(f'CUDA available?: {torch.cuda.is_available()}')\n",
    "\n",
    "import train_partseg\n",
    "import test_partseg\n",
    "import infer_partseg"
   ]
  },
  {
   "cell_type": "markdown",
   "id": "a93d6770",
   "metadata": {},
   "source": [
    "## **Optional**: External Directory\n",
    "\n",
    "If you want to put the log and data directories in a different location, you can use the following code."
   ]
  },
  {
   "cell_type": "code",
   "execution_count": null,
   "id": "c16bbe98",
   "metadata": {},
   "outputs": [],
   "source": [
    "root_log_dir = Path('..', 'log').resolve()\n",
    "DATA_DIR = str(Path('..', 'data').resolve())\n",
    "partseg_data_dir = str(Path(DATA_DIR, 'shapenetcore_partanno_segmentation_benchmark_v0_normal').resolve())\n",
    "\n",
    "root_log_dir, DATA_DIR, partseg_data_dir"
   ]
  },
  {
   "cell_type": "markdown",
   "id": "9047184f",
   "metadata": {},
   "source": [
    "---"
   ]
  },
  {
   "cell_type": "markdown",
   "id": "277e80f7",
   "metadata": {},
   "source": [
    "## Data\n",
    "\n",
    "- ShapeNet dataset in text format\n",
    "- Download `shapenetcore_partanno_segmentation_benchmark_v0_normal` from:\n",
    "  - [Kaggle](https://www.kaggle.com/datasets/mitkir/shapenet?resource=download)\n",
    "\n",
    "\n",
    "Default `--data_dir` is `'data/shapenetcore_partanno_segmentation_benchmark_v0_normal'`.\n",
    "\n",
    "- `data/`\n",
    "  - `shapenetcore_partanno_segmentation_benchmark_v0_normal/`\n",
    "    - `02691156/`\n",
    "      - `1a04e3eab45ca15dd86060f189eb133.txt`\n",
    "      - `1a04e3eab45ca15dd86060f189eb133.npz`\n",
    "      - ...\n",
    "    - ...\n",
    "    - `train_test_split/`\n",
    "      - `shuffled_train_filelist.json`\n",
    "      - `shuffled_val_filelist.json`\n",
    "      - `shuffled_test_filelist.json`\n",
    "    - `utils/`\n",
    "      - `potential_field.py`\n",
    "      - `som.py`\n",
    "    - `synsetoffset2category.txt`\n",
    "\n",
    "### Data structure\n",
    "\n",
    "From `data/shapenetcore_partanno_segmentation_benchmark_v0_normal/synsetoffset2category.txt`, the folders correspond to the following categories:\n",
    "\n",
    "- `Airplane`: 02691156\n",
    "- `Bag`: 02773838\n",
    "- `Cap`: 02954340\n",
    "- `Car`: 02958343\n",
    "- `Chair`: 03001627\n",
    "- `Earphone`: 03261776\n",
    "- `Guitar`: 03467517\n",
    "- `Knife`: 03624134\n",
    "- `Lamp`: 03636649\n",
    "- `Laptop`: 03642806\n",
    "- `Motorbike`: 03790512\n",
    "- `Mug`: 03797390\n",
    "- `Pistol`: 03948459\n",
    "- `Rocket`: 04099429\n",
    "- `Skateboard`: 04225987\n",
    "- `Table`: 04379243\n",
    "\n",
    "For each .txt file within the folder above, \n",
    "\n",
    " - `[i, :]` is the i th point.\n",
    " - `[:, 0:3]` is xyz.\n",
    " - `[:, 3:6]` is normalized xyz.\n",
    " - `[:, 6]` is the segmentation label.\n",
    "\n",
    "i.e., each row is a point, and the columns are `[x, y, z, nx, ny, nz, label]`.\n",
    "\n",
    "`--normal` flag will use all x-y-z-nx-ny-nz + label as input. Otherwise, only x-y-z + label will be used.\n",
    "\n",
    "#### **OUTPUT**\n",
    "\n",
    "- TRAINING: `<log_root>/part_seg/<args.log_dir or TIME>/checkpoints/best_model.pth`\n"
   ]
  },
  {
   "cell_type": "markdown",
   "id": "d9287ac4",
   "metadata": {},
   "source": [
    "---"
   ]
  },
  {
   "cell_type": "markdown",
   "id": "94ee3cb0",
   "metadata": {},
   "source": [
    "## Segmentation Classes"
   ]
  },
  {
   "cell_type": "code",
   "execution_count": null,
   "id": "157beac8",
   "metadata": {},
   "outputs": [],
   "source": [
    "# shapenet part segmentation\n",
    "seg_classes = {\n",
    "    'Earphone'  : [16, 17, 18],\n",
    "    'Motorbike' : [30, 31, 32, 33, 34, 35],\n",
    "    'Rocket'    : [41, 42, 43],\n",
    "    'Car'       : [8, 9, 10, 11],\n",
    "    'Laptop'    : [28, 29],\n",
    "    'Cap'       : [6, 7],\n",
    "    'Skateboard': [44, 45, 46],\n",
    "    'Mug'       : [36, 37],\n",
    "    'Guitar'    : [19, 20, 21],\n",
    "    'Bag'       : [4, 5],\n",
    "    'Lamp'      : [24, 25, 26, 27],\n",
    "    'Table'     : [47, 48, 49],\n",
    "    'Airplane'  : [0, 1, 2, 3],\n",
    "    'Pistol'    : [38, 39, 40],\n",
    "    'Chair'     : [12, 13, 14, 15],\n",
    "    'Knife'     : [22, 23]\n",
    "}\n",
    "\n",
    "seg_ids = [seg_id for seg_val_sublist in seg_classes.values() for seg_id in seg_val_sublist]\n",
    "len(seg_classes), len(seg_ids)"
   ]
  },
  {
   "cell_type": "markdown",
   "id": "fd64a61a",
   "metadata": {},
   "source": [
    "---"
   ]
  },
  {
   "cell_type": "markdown",
   "id": "816b5a83",
   "metadata": {},
   "source": [
    "## Training\n",
    "\n",
    "`train_partseg.py` is used to train the model.\n",
    "\n",
    "Check all the arguments:"
   ]
  },
  {
   "cell_type": "code",
   "execution_count": null,
   "id": "1c5eb0e8",
   "metadata": {},
   "outputs": [],
   "source": [
    "!python3 train_partseg.py -h"
   ]
  },
  {
   "cell_type": "markdown",
   "id": "1e385766",
   "metadata": {},
   "source": [
    "The following is the same as running:\n",
    "\n",
    "```bash\n",
    "python3 train_partseg.py \\\n",
    "     --model pointnet2_part_seg_msg \\\n",
    "     --normal \\\n",
    "     --log_dir pointnet2_part_seg_msg \\\n",
    "     # --log_root ../log \\\n",
    "     # --data_dir ../data/shapenetcore_partanno_segmentation_benchmark_v0_normal\\\n",
    "```"
   ]
  },
  {
   "cell_type": "code",
   "execution_count": null,
   "id": "a4ea0086",
   "metadata": {},
   "outputs": [],
   "source": [
    "args = {\n",
    "    'model'   : 'pointnet2_part_seg_msg',\n",
    "    'normal'  : True, # in source: action='store_true'\n",
    "    'log_dir' : 'pointnet2_part_seg_msg',\n",
    "    'log_root': root_log_dir,\n",
    "    'data_dir': partseg_data_dir,\n",
    "    'notebook': True\n",
    "}\n",
    "partseg_train_args = train_partseg.CommandLineArgs(**args)\n",
    "train_partseg.main(partseg_train_args, seg_classes)"
   ]
  },
  {
   "cell_type": "markdown",
   "id": "20b043a6",
   "metadata": {},
   "source": [
    "---"
   ]
  },
  {
   "cell_type": "markdown",
   "id": "44c1218d",
   "metadata": {},
   "source": [
    "## Training with DDP"
   ]
  },
  {
   "cell_type": "code",
   "execution_count": null,
   "id": "bc8ff034",
   "metadata": {},
   "outputs": [],
   "source": [
    "!python3 train_partseg_ddp.py -h"
   ]
  },
  {
   "cell_type": "markdown",
   "id": "cd469eec",
   "metadata": {},
   "source": [
    "```bash\n",
    "python3 train_partseg_ddp.py \\\n",
    "    --model pointnet2_part_seg_msg \\\n",
    "    --normal \\\n",
    "    --log_dir pointnet2_part_seg_msg \\\n",
    "    --log_root ../log \\\n",
    "    --data_dir ../data/shapenetcore_partanno_segmentation_benchmark_v0_normal\n",
    "    --batch_size 32 \\\n",
    "    --world_size 1\n",
    "```"
   ]
  },
  {
   "cell_type": "markdown",
   "id": "8ee4fd5a",
   "metadata": {},
   "source": [
    "---"
   ]
  },
  {
   "cell_type": "markdown",
   "id": "f14f38cf",
   "metadata": {},
   "source": [
    "## Testing\n",
    "\n",
    "`test_partseg.py` is used to test the model.\n",
    "\n",
    "Check all the arguments:"
   ]
  },
  {
   "cell_type": "code",
   "execution_count": null,
   "id": "5737dc8e",
   "metadata": {},
   "outputs": [],
   "source": [
    "!python3 test_partseg.py -h"
   ]
  },
  {
   "cell_type": "markdown",
   "id": "a3f868f9",
   "metadata": {},
   "source": [
    "The following is the same as running:\n",
    "\n",
    "```bash\n",
    "python3 test_partseg.py \\\n",
    "     --normal \\\n",
    "     --log_dir pointnet2_part_seg_msg \\\n",
    "     # --log_root ../log \\\n",
    "     # --data_dir ../data/shapenetcore_partanno_segmentation_benchmark_v0_normal\n",
    "```"
   ]
  },
  {
   "cell_type": "code",
   "execution_count": null,
   "id": "1ecc34b5",
   "metadata": {},
   "outputs": [],
   "source": [
    "args = {\n",
    "    'normal'  : True, # in source: action='store_true'\n",
    "    'log_dir' : 'pointnet2_part_seg_msg',\n",
    "    'log_root': root_log_dir,\n",
    "    'data_dir': partseg_data_dir,\n",
    "    'notebook': True\n",
    "}\n",
    "partseg_test_args = test_partseg.CommandLineArgs(**args)\n",
    "test_metrics, shape_ious, total_correct_class, total_seen_class = test_partseg.main(partseg_test_args, seg_classes)"
   ]
  },
  {
   "cell_type": "code",
   "execution_count": null,
   "id": "58de8b08",
   "metadata": {},
   "outputs": [],
   "source": [
    "test_metrics, shape_ious"
   ]
  },
  {
   "cell_type": "code",
   "execution_count": null,
   "id": "465531b5",
   "metadata": {},
   "outputs": [],
   "source": [
    "seg_correct = dict(zip(range(len(seg_ids)), total_correct_class))\n",
    "seg_total = dict(zip(range(len(seg_ids)), total_seen_class))\n",
    "\n",
    "seg_acc = {}\n",
    "for id, correct_n in seg_correct.items():\n",
    "    total_n = seg_total[id]\n",
    "    if total_n == 0:\n",
    "        seg_acc[id] = 0\n",
    "    else:\n",
    "        seg_acc[id] = correct_n / total_n\n",
    "# print(seg_acc)\n",
    "\n",
    "seg_class_acc = {}\n",
    "for cat in seg_classes:\n",
    "    seg_class_acc[cat] = {}\n",
    "    for id in seg_classes[cat]:\n",
    "        seg_class_acc[cat][id] = seg_acc[id]\n",
    "\n",
    "pprint(seg_class_acc)"
   ]
  },
  {
   "cell_type": "markdown",
   "id": "77a5eb01",
   "metadata": {},
   "source": [
    "---"
   ]
  },
  {
   "cell_type": "markdown",
   "id": "8cf3dcc3",
   "metadata": {},
   "source": [
    "## Inference\n",
    "\n",
    "`infer_partseg.py` is used for inference.\n",
    "\n",
    "NOTE: This is not included in the original codebase so there are slight differences in configuration."
   ]
  },
  {
   "cell_type": "code",
   "execution_count": null,
   "id": "907abc4c",
   "metadata": {},
   "outputs": [],
   "source": [
    "!python3 infer_partseg.py -h"
   ]
  },
  {
   "cell_type": "markdown",
   "id": "5e825726",
   "metadata": {},
   "source": [
    "```bash\n",
    "python3 infer_partseg.py \\\n",
    "    --normal \\\n",
    "    --batch_size 48 #\\\n",
    "    # --data_dir ../data/shapenetcore_partanno_segmentation_benchmark_v0_normal \\\n",
    "    # --log_dir pointnet2_part_seg_msg \\\n",
    "```"
   ]
  },
  {
   "cell_type": "code",
   "execution_count": null,
   "id": "069e329c",
   "metadata": {},
   "outputs": [],
   "source": [
    "# See infer_partseg.PointnetInference docstring\n",
    "# fmt: off\n",
    "config = {\n",
    "    \"gpu\"          : 0,\n",
    "    \"batch_size\"   : 48,\n",
    "    \"num_point\"    : 2048,\n",
    "    \"normal\"       : True,\n",
    "    \"num_votes\"    : 3,\n",
    "    \"model_name\"   : \"pointnet2_part_seg_msg\",\n",
    "    \"log_dir\"      : root_log_dir / \"part_seg\" / \"pointnet2_part_seg_msg\",\n",
    "}\n",
    "config[\"out_path\"] = config[\"log_dir\"] / \"inference_results\"\n",
    "config[\"pt_path\"]  = config[\"log_dir\"] / \"checkpoints\" / \"best_model.pth\"\n",
    "# fmt: on\n",
    "\n",
    "data_dir = Path(partseg_data_dir)\n",
    "with open(data_dir / \"train_test_split\" / \"shuffled_test_file_list.json\", \"r\") as f:\n",
    "    test_ids = list(set([str(d) for d in json.load(f)]))\n",
    "test_ids = [\n",
    "    data_dir / test_id.split(\"/\")[-2] / f\"{test_id.split('/')[-1]}.txt\"\n",
    "    for test_id in test_ids\n",
    "]\n",
    "\n",
    "test_metrics, shape_ious, total_correct_class, total_seen_class = infer_partseg.main(\n",
    "    conf=config, data_paths=test_ids, segmentation_classes=seg_classes, notebook=True\n",
    ")\n"
   ]
  },
  {
   "cell_type": "code",
   "execution_count": null,
   "id": "46a22acb",
   "metadata": {},
   "outputs": [],
   "source": [
    "test_metrics, shape_ious"
   ]
  },
  {
   "cell_type": "code",
   "execution_count": null,
   "id": "ba991e7f",
   "metadata": {},
   "outputs": [],
   "source": [
    "seg_correct = dict(zip(range(len(seg_ids)), total_correct_class))\n",
    "seg_total = dict(zip(range(len(seg_ids)), total_seen_class))\n",
    "\n",
    "seg_acc = {}\n",
    "for id, correct_n in seg_correct.items():\n",
    "    total_n = seg_total[id]\n",
    "    if total_n == 0:\n",
    "        seg_acc[id] = 0\n",
    "    else:\n",
    "        seg_acc[id] = correct_n / total_n\n",
    "# print(seg_acc)\n",
    "\n",
    "seg_class_acc = {}\n",
    "for cat in seg_classes:\n",
    "    seg_class_acc[cat] = {}\n",
    "    for id in seg_classes[cat]:\n",
    "        seg_class_acc[cat][id] = seg_acc[id]\n",
    "\n",
    "pprint(seg_class_acc)"
   ]
  }
 ],
 "metadata": {
  "kernelspec": {
   "display_name": ".venv",
   "language": "python",
   "name": "python3"
  },
  "language_info": {
   "codemirror_mode": {
    "name": "ipython",
    "version": 3
   },
   "file_extension": ".py",
   "mimetype": "text/x-python",
   "name": "python",
   "nbconvert_exporter": "python",
   "pygments_lexer": "ipython3",
   "version": "3.12.3"
  }
 },
 "nbformat": 4,
 "nbformat_minor": 5
}
