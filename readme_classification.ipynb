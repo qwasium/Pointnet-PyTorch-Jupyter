{
 "cells": [
  {
   "cell_type": "markdown",
   "id": "36cf4916",
   "metadata": {},
   "source": [
    "# Classification (ModelNet)\n",
    "\n",
    "## Jupyter Notebook implementation\n",
    "\n",
    "First read the [README](README.md) file if you're new.\n",
    "\n",
    "This is an example of using the code from Jupyter Notebook.\n",
    "\n",
    "## Contents\n",
    "\n",
    "- [Training](#training)\n",
    "- [Testing](#testing)\n"
   ]
  },
  {
   "cell_type": "markdown",
   "id": "e47beaef",
   "metadata": {},
   "source": [
    "# Imports"
   ]
  },
  {
   "cell_type": "code",
   "execution_count": null,
   "id": "5fbcc379",
   "metadata": {},
   "outputs": [],
   "source": [
    "from pprint import pprint\n",
    "from pathlib import Path\n",
    "\n",
    "import torch\n",
    "print(f'CUDA available?: {torch.cuda.is_available()}')\n",
    "\n",
    "import train_classification\n",
    "import test_classification\n"
   ]
  },
  {
   "cell_type": "markdown",
   "id": "f043f0e4",
   "metadata": {},
   "source": [
    "## **Optional**: External Directory\n",
    "\n",
    "If you want to put the log and data directories in a different location, you can use the following code."
   ]
  },
  {
   "cell_type": "code",
   "execution_count": null,
   "id": "99b8f67b",
   "metadata": {},
   "outputs": [],
   "source": [
    "root_log_dir = Path('..', 'log').resolve()\n",
    "DATA_DIR = str(Path('..', 'data').resolve())\n",
    "class_data_dir = str(Path(DATA_DIR, 'modelnet40_normal_resampled').resolve())\n",
    "\n",
    "root_log_dir, DATA_DIR, class_data_dir"
   ]
  },
  {
   "cell_type": "markdown",
   "id": "ffb0e3af",
   "metadata": {},
   "source": [
    "---"
   ]
  },
  {
   "cell_type": "markdown",
   "id": "566e10ae",
   "metadata": {},
   "source": [
    "## Data"
   ]
  },
  {
   "cell_type": "markdown",
   "id": "ff546147",
   "metadata": {},
   "source": [
    "### Data\n",
    "\n",
    "- ModelNet40 dataset in text format\n",
    "- Download `modelnet40_normal_resampled` from:\n",
    "  - [Kaggle](https://www.kaggle.com/datasets/chenxaoyu/modelnet-normal-resampled)  \n",
    "   [Pointcept Huggingface](https://huggingface.co/datasets/Pointcept/modelnet40_normal_resampled-compressed)\n",
    "\n",
    "Default `--data_dir` is `'data/modelnet40_normal_resampled'`.\n",
    "\n",
    "- `data/`\n",
    "  - `modelnet40_normal_resampled/`\n",
    "    - `train/`\n",
    "      - `airplane/`\n",
    "        - `airplane_0001.txt`\n",
    "        - `airplane_0002.txt`\n",
    "        - ...\n",
    "    - ...\n",
    "    - `file_list.txt`\n",
    "    - `modelnet10_shape_names.txt`\n",
    "    - `modelnet10_train.txt`\n",
    "    - `modelnet10_test.txt`\n",
    "    - `modelnet40_shape_names.txt`\n",
    "    - `modelnet40_train.txt`\n",
    "    - `modelnet40_test.txt`\n",
    "\n",
    "### **OUTPUT**\n",
    "\n",
    "- TRAINING: `<log_root>/classification/<args.log_dir or TIME>/checkpoints/best_model.pth`\n",
    "- PREDICTION: `None (only prints accuracy)`\n"
   ]
  },
  {
   "cell_type": "markdown",
   "id": "4a6d4bf5",
   "metadata": {},
   "source": [
    "---"
   ]
  },
  {
   "cell_type": "markdown",
   "id": "ca7ddf04",
   "metadata": {},
   "source": [
    "## Training"
   ]
  },
  {
   "cell_type": "markdown",
   "id": "71158070",
   "metadata": {},
   "source": [
    "`train_classification.py` is used to train the model.\n",
    "\n",
    "Check all the arguments:"
   ]
  },
  {
   "cell_type": "code",
   "execution_count": null,
   "id": "6df44e5f",
   "metadata": {},
   "outputs": [],
   "source": [
    "!python train_classification.py -h"
   ]
  },
  {
   "cell_type": "markdown",
   "id": "c3feb5e2",
   "metadata": {},
   "source": [
    "The following is the same as running:\n",
    "\n",
    "```bash\n",
    "python3 train_classification.py \\\n",
    "     --model pointnet2_cls_ssg \\\n",
    "     --log_dir pointnet2_cls_ssg \\\n",
    "     # --log_root ../log \\\n",
    "     # --data_dir ../data/modelnet40_normal_resampled \\\n",
    "```"
   ]
  },
  {
   "cell_type": "code",
   "execution_count": null,
   "id": "85b903f0",
   "metadata": {},
   "outputs": [],
   "source": [
    "# user defined arguments for command line as a dictionary\n",
    "args = {\n",
    "    'model'   : 'pointnet2_cls_ssg',\n",
    "    'log_dir' : 'pointnet2_cls_ssg',\n",
    "    'log_root': root_log_dir,\n",
    "    'data_dir': class_data_dir,\n",
    "    'notebook': True\n",
    "}\n",
    "classification_train_args = train_classification.CommandLineArgs(**args)\n",
    "train_classification.main(classification_train_args)"
   ]
  },
  {
   "cell_type": "markdown",
   "id": "3b1d0a70",
   "metadata": {},
   "source": [
    "---"
   ]
  },
  {
   "cell_type": "markdown",
   "id": "da9d3b75",
   "metadata": {},
   "source": [
    "## Testing\n",
    "\n",
    "`test_classification.py` is used to test the model.\n",
    "\n",
    "Check all the arguments:"
   ]
  },
  {
   "cell_type": "code",
   "execution_count": null,
   "id": "78a2653c",
   "metadata": {},
   "outputs": [],
   "source": [
    "!python test_classification.py -h"
   ]
  },
  {
   "cell_type": "markdown",
   "id": "5397a5ef",
   "metadata": {},
   "source": [
    "The following is the same as running:\n",
    "\n",
    "```bash\n",
    "python3 test_classification.py \\\n",
    "     --log_dir pointnet2_cls_ssg \\\n",
    "     # --log_root ../log \\\n",
    "     # --data_dir ../data/modelnet40_normal_resampled \\\n",
    "```"
   ]
  },
  {
   "cell_type": "code",
   "execution_count": null,
   "id": "cc164972",
   "metadata": {},
   "outputs": [],
   "source": [
    "args = {\n",
    "    'log_dir': 'pointnet2_cls_ssg',\n",
    "    'log_root': root_log_dir,\n",
    "    'data_dir': class_data_dir,\n",
    "    'notebook': True\n",
    "}\n",
    "classification_test_args = test_classification.CommandLineArgs(**args)\n",
    "test_classification.main(classification_test_args)"
   ]
  }
 ],
 "metadata": {
  "kernelspec": {
   "display_name": "pointnet312",
   "language": "python",
   "name": "python3"
  },
  "language_info": {
   "codemirror_mode": {
    "name": "ipython",
    "version": 3
   },
   "file_extension": ".py",
   "mimetype": "text/x-python",
   "name": "python",
   "nbconvert_exporter": "python",
   "pygments_lexer": "ipython3",
   "version": "3.12.3"
  }
 },
 "nbformat": 4,
 "nbformat_minor": 5
}
