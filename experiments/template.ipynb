{
 "cells": [
  {
   "cell_type": "markdown",
   "id": "a63817b2-90bf-4c49-88fb-ab777f3a90b4",
   "metadata": {},
   "source": [
    "# Experiment Template Notebook"
   ]
  },
  {
   "cell_type": "code",
   "execution_count": 6,
   "id": "858a1b1c-525e-449d-9c8a-f57d6bf78802",
   "metadata": {},
   "outputs": [
    {
     "name": "stdout",
     "output_type": "stream",
     "text": [
      "DATA_ROOT :  /home/kuwaharah436/Documents/paprika-paper-2024/qwa-work/data\n",
      "HERE :  /home/kuwaharah436/Documents/paprika-paper-2024/qwa-work/pointnet-pytorch-jupyter/experiments\n",
      "PN_REPO :  /home/kuwaharah436/Documents/paprika-paper-2024/qwa-work/pointnet-pytorch-jupyter\n",
      "QW_REPO :  /home/kuwaharah436/Documents/paprika-paper-2024/qwa-work\n",
      "data_dir :  /home/kuwaharah436/Documents/paprika-paper-2024/qwa-work/pointnet-pytorch-jupyter/data/template\n",
      "log_dir :  template\n",
      "log_root :  /home/kuwaharah436/Documents/paprika-paper-2024/qwa-work/data/pointnet-log\n",
      "train_partseg.ROOT_DIR: /home/kuwaharah436/Documents/paprika-paper-2024/qwa-work/pointnet-pytorch-jupyter\n",
      "test_partseg.ROOT_DIR: /home/kuwaharah436/Documents/paprika-paper-2024/qwa-work/pointnet-pytorch-jupyter\n"
     ]
    }
   ],
   "source": [
    "import os\n",
    "from pathlib import Path\n",
    "import random\n",
    "from pprint import pprint\n",
    "import json\n",
    "import pandas as pd\n",
    "\n",
    "from exp_utils import PointnetPath, JumpDir, PointCloudTable\n",
    "\n",
    "path_obj = PointnetPath(\"template\")\n",
    "with JumpDir(path_obj.PN_REPO, path_obj.HERE):\n",
    "    import train_partseg as train\n",
    "    import test_partseg as test\n",
    "\n",
    "_ = [\n",
    "    print(att,\": \", getattr(path_obj, att))\n",
    "    for att in dir(path_obj)\n",
    "    if not att.startswith(\"__\")\n",
    "    and att != \"where_am_i\"\n",
    "]\n",
    "print(f\"train_partseg.ROOT_DIR: {train.ROOT_DIR}\")\n",
    "print(f\"test_partseg.ROOT_DIR: {test.ROOT_DIR}\")"
   ]
  },
  {
   "cell_type": "markdown",
   "id": "149b5be0-ee0e-4908-a748-9f06fe5a3020",
   "metadata": {},
   "source": [
    "## Data Prep\n",
    "\n",
    "- `qwa-work/`\n",
    "  - `data/`\n",
    "    - `split-data/`: from here\n",
    "  - `pointnet-pytorch-jupyter/`\n",
    "    - `data/`\n",
    "      - `template/`: to here\n",
    "        - `paprika/`\n",
    "        - `train_test_split/`\n",
    "        - `synsetoffset2category.txt`"
   ]
  },
  {
   "cell_type": "code",
   "execution_count": 2,
   "id": "8817b824-8a84-42d7-b71a-c3ff84184f5f",
   "metadata": {},
   "outputs": [
    {
     "data": {
      "text/plain": [
       "PosixPath('/home/kuwaharah436/Documents/paprika-paper-2024/qwa-work/data/split-data')"
      ]
     },
     "execution_count": 2,
     "metadata": {},
     "output_type": "execute_result"
    }
   ],
   "source": [
    "RAW_PATH = path_obj.DATA_ROOT / \"split-data\"\n",
    "assert RAW_PATH.exists()\n",
    "RAW_PATH#, list(RAW_PATH.iterdir())"
   ]
  },
  {
   "cell_type": "markdown",
   "id": "ddfa2c56-4569-401f-865b-871d3d86aff3",
   "metadata": {},
   "source": [
    "### txt file clumns\n",
    "\n",
    "| 0 | 1 | 2 | 3 | 4 | 5 | 6 |\n",
    "|---|---|---|---|---|---|---|\n",
    "|`x`|`y`|`z`|`nx`|`ny`|`nz`|`label`: 0\\|1|\n",
    "\n",
    "label\n",
    "\n",
    "- `0`: non-leaf\n",
    "- `1`: leaf"
   ]
  },
  {
   "cell_type": "code",
   "execution_count": 3,
   "id": "ddaa00d0-47be-4418-992a-364b7a7472e7",
   "metadata": {},
   "outputs": [],
   "source": [
    "# Only columns below are left\n",
    "# Order sensitive; be carefull\n",
    "export_cols = [\"x\", \"y\", \"z\", \"nx\", \"ny\", \"nz\", \"label\"]"
   ]
  },
  {
   "cell_type": "code",
   "execution_count": 4,
   "id": "86f77a4e-abef-4095-a22f-ab3646ce32d4",
   "metadata": {},
   "outputs": [
    {
     "name": "stdout",
     "output_type": "stream",
     "text": [
      "{'fruit': 4, 'leaves': 2, 'leaves-fruit': 24, 'marker': 0, 'rod': 1, 'stem': 3}\n",
      "{0: 0, 1: 0, 2: 1, 3: 0, 4: 0}\n"
     ]
    }
   ],
   "source": [
    "with open(\n",
    "    path_obj.DATA_ROOT / \"complete-data\" / \"labels.json\", 'r', encoding=\"utf-8\"\n",
    ") as js_f:\n",
    "    labels = json.load(js_f)\n",
    "label_map = {\n",
    "    labels[\"marker\"]: 0,\n",
    "    labels[\"rod\"]   : 0,\n",
    "    labels[\"stem\"]  : 0,\n",
    "    labels[\"fruit\"] : 0,\n",
    "    labels[\"leaves\"]: 1,\n",
    "}\n",
    "pprint(labels)\n",
    "pprint(label_map)"
   ]
  },
  {
   "cell_type": "markdown",
   "id": "93d9aecc-e197-45cf-8a7f-bde87671e91d",
   "metadata": {},
   "source": [
    "### Read and Write Data"
   ]
  },
  {
   "cell_type": "markdown",
   "id": "15c11ba2-460b-4964-81ad-00a9237164ba",
   "metadata": {},
   "source": [
    "### labels"
   ]
  },
  {
   "cell_type": "code",
   "execution_count": 15,
   "id": "54c4b918-b509-4f6d-a0b1-449ad36586bd",
   "metadata": {},
   "outputs": [
    {
     "name": "stdout",
     "output_type": "stream",
     "text": [
      "{'fruit': 4, 'leaves': 2, 'leaves-fruit': 24, 'marker': 0, 'rod': 1, 'stem': 3}\n"
     ]
    }
   ],
   "source": [
    "with open(\n",
    "    path_obj.DATA_ROOT / \"complete-data\" / \"labels.json\", \"r\", encoding=\"utf-8\"\n",
    ") as js_f:\n",
    "    labels = json.load(js_f)\n",
    "pprint(labels)"
   ]
  },
  {
   "cell_type": "markdown",
   "id": "47ab1f92-dc05-4e08-bb3a-52a516c27031",
   "metadata": {},
   "source": [
    "RAW_PATH / paprika id"
   ]
  },
  {
   "cell_type": "code",
   "execution_count": 18,
   "id": "b6ca9d07-d90e-4010-a150-6dca08cd4af4",
   "metadata": {},
   "outputs": [
    {
     "name": "stdout",
     "output_type": "stream",
     "text": [
      "[PosixPath('/home/kuwaharah436/Documents/paprika-paper-2024/qwa-work/data/split-data/Nagano_0209_2'),\n",
      " PosixPath('/home/kuwaharah436/Documents/paprika-paper-2024/qwa-work/data/split-data/Nagano_0316_2'),\n",
      " PosixPath('/home/kuwaharah436/Documents/paprika-paper-2024/qwa-work/data/split-data/Artega_0309_1'),\n",
      " PosixPath('/home/kuwaharah436/Documents/paprika-paper-2024/qwa-work/data/split-data/Nagano_0309_2'),\n",
      " PosixPath('/home/kuwaharah436/Documents/paprika-paper-2024/qwa-work/data/split-data/Nesditt_0316_2'),\n",
      " PosixPath('/home/kuwaharah436/Documents/paprika-paper-2024/qwa-work/data/split-data/Nesditt_0209_2'),\n",
      " PosixPath('/home/kuwaharah436/Documents/paprika-paper-2024/qwa-work/data/split-data/Trirosso_0209_2'),\n",
      " PosixPath('/home/kuwaharah436/Documents/paprika-paper-2024/qwa-work/data/split-data/Nesditt_0316_1'),\n",
      " PosixPath('/home/kuwaharah436/Documents/paprika-paper-2024/qwa-work/data/split-data/Trirosso_0309_1'),\n",
      " PosixPath('/home/kuwaharah436/Documents/paprika-paper-2024/qwa-work/data/split-data/Nesditt_0309_3'),\n",
      " PosixPath('/home/kuwaharah436/Documents/paprika-paper-2024/qwa-work/data/split-data/Trirosso_0209_1'),\n",
      " PosixPath('/home/kuwaharah436/Documents/paprika-paper-2024/qwa-work/data/split-data/Artega_0209_2'),\n",
      " PosixPath('/home/kuwaharah436/Documents/paprika-paper-2024/qwa-work/data/split-data/Artega_0309_2'),\n",
      " PosixPath('/home/kuwaharah436/Documents/paprika-paper-2024/qwa-work/data/split-data/Nesditt_0309_2'),\n",
      " PosixPath('/home/kuwaharah436/Documents/paprika-paper-2024/qwa-work/data/split-data/Nagano_0316_1'),\n",
      " PosixPath('/home/kuwaharah436/Documents/paprika-paper-2024/qwa-work/data/split-data/Nagano_0209_1')]\n"
     ]
    }
   ],
   "source": [
    "raw_pprkid = list(RAW_PATH.iterdir())\n",
    "pprint(raw_pprkid)"
   ]
  },
  {
   "cell_type": "code",
   "execution_count": null,
   "id": "99f2c450-9b01-421c-ba04-4a2f58696c1f",
   "metadata": {},
   "outputs": [],
   "source": [
    "txt_list = [] # qwa-work/data/split-data/paprika/\n",
    "for pprk_path in path_obj.data_dir:\n",
    "    txt_list = txt_lit"
   ]
  },
  {
   "cell_type": "code",
   "execution_count": 5,
   "id": "96f54fae-b58a-4bab-9d98-121cdfc6dfb5",
   "metadata": {},
   "outputs": [],
   "source": [
    "raw_file_paths = [] # qwa-work/data/split-data/<paprika id>/_*.txt\n",
    "for pprk_dir in RAW_PATH.iterdir():\n",
    "    raw_file_paths = raw_file_paths + list(pprk_dir.iterdir())\n",
    "#raw_file_paths[:10]"
   ]
  },
  {
   "cell_type": "code",
   "execution_count": 12,
   "id": "78060dca-0ab3-4327-8a5d-e9ed915ee7cc",
   "metadata": {},
   "outputs": [],
   "source": [
    "skip_if_exists = False\n",
    "for f_path in raw_file_paths:\n",
    "    # skip json\n",
    "    if f_path.suffix != \".txt\":\n",
    "        continue\n",
    "\n",
    "    # skip if already exists\n",
    "    out_path = path_obj.data_dir / \"paprika\" / (\n",
    "        f_path.parent.name + f_path.name\n",
    "    )\n",
    "    if skip_if_exists and out_path.exists():\n",
    "        continue\n",
    "\n",
    "    # read and prep data\n",
    "    raw_df = pd.read_table(f_path, header=0, sep=\" \")\n",
    "    cleaned_df = PointCloudTable.prep(\n",
    "        raw_df, export_cols, label_map\n",
    "    )\n",
    "    if cleaned_df is None:\n",
    "        continue\n",
    "\n",
    "    # write\n",
    "    out_path.parent.mkdir(exist_ok=True, parents=True)\n",
    "    cleaned_df.to_csv(\n",
    "        out_path, sep=\" \", header=False, index=False\n",
    "    )\n",
    "#cleaned_df"
   ]
  },
  {
   "cell_type": "markdown",
   "id": "8e7189e5-d43f-41b3-bdcb-bd78e09db990",
   "metadata": {},
   "source": [
    "### Train Test Validation split"
   ]
  },
  {
   "cell_type": "code",
   "execution_count": 13,
   "id": "bf8a5e50-fb2d-4e07-82a4-1c79176df17f",
   "metadata": {},
   "outputs": [
    {
     "data": {
      "text/plain": [
       "(0.7000000000000001, 0.20000000000000004, 0.10000000000000002)"
      ]
     },
     "execution_count": 13,
     "metadata": {},
     "output_type": "execute_result"
    }
   ],
   "source": [
    "train_ratio = 0.7\n",
    "test_ratio  = 0.2\n",
    "val_ratio   = 0.1\n",
    "\n",
    "ratio_sum = (train_ratio + test_ratio + val_ratio)\n",
    "train_ratio = train_ratio / ratio_sum\n",
    "test_ratio = test_ratio / ratio_sum\n",
    "val_ratio = val_ratio / ratio_sum\n",
    "train_ratio, test_ratio, val_ratio"
   ]
  },
  {
   "cell_type": "code",
   "execution_count": 14,
   "id": "7adbf05f-9ee0-46c4-a091-cb845c154dc9",
   "metadata": {},
   "outputs": [
    {
     "data": {
      "text/plain": [
       "(3426, 978, 490)"
      ]
     },
     "execution_count": 14,
     "metadata": {},
     "output_type": "execute_result"
    }
   ],
   "source": [
    "train_data = []\n",
    "test_data = []\n",
    "val_data = []\n",
    "\n",
    "txt_ls = os.listdir(path_obj.data_dir / \"paprika\")\n",
    "txt_ls = [\n",
    "    \"shape_data/paprika/\" + fname.strip(\".tx\") for fname in txt_ls\n",
    "]\n",
    "random.shuffle(txt_ls)\n",
    "ls_len = len(txt_ls)\n",
    "train_test_idx = round(ls_len * train_ratio)\n",
    "test_val_idx = train_test_idx + round(ls_len * test_ratio)\n",
    "train_data = train_data + txt_ls[:train_test_idx - 1]\n",
    "test_data = test_data + txt_ls[train_test_idx:test_val_idx - 1]\n",
    "val_data = val_data + txt_ls[test_val_idx:]\n",
    "len(train_data), len(test_data), len(val_data)"
   ]
  },
  {
   "cell_type": "code",
   "execution_count": 15,
   "id": "e9044375-8bb1-4d9c-827e-1401a0c8312a",
   "metadata": {},
   "outputs": [
    {
     "data": {
      "text/plain": [
       "(['shape_data/paprika/Nagano_0209_1_361',\n",
       "  'shape_data/paprika/Artega_0309_1_240',\n",
       "  'shape_data/paprika/Nagano_0309_2_302'],\n",
       " ['shape_data/paprika/Artega_0209_2_319',\n",
       "  'shape_data/paprika/Nesditt_0309_3_157',\n",
       "  'shape_data/paprika/Nesditt_0316_1_176'],\n",
       " ['shape_data/paprika/Nesditt_0316_2_477',\n",
       "  'shape_data/paprika/Artega_0309_1_345',\n",
       "  'shape_data/paprika/Artega_0309_1_380'])"
      ]
     },
     "execution_count": 15,
     "metadata": {},
     "output_type": "execute_result"
    }
   ],
   "source": [
    "train_data[:3], test_data[:3], val_data[:3]"
   ]
  },
  {
   "cell_type": "code",
   "execution_count": 16,
   "id": "89aa21c1-9d5c-4207-b5a1-9bcdca3f895a",
   "metadata": {},
   "outputs": [],
   "source": [
    "split_dir = path_obj.data_dir / \"train_test_split\"\n",
    "split_dir.mkdir(exist_ok=True, parents=False)\n",
    "with open(split_dir / \"shuffled_train_file_list.json\", \"w\", encoding=\"utf-8\") as f:\n",
    "    json.dump(train_data, f, indent=4)\n",
    "with open(split_dir / \"shuffled_test_file_list.json\", \"w\", encoding=\"utf-8\") as f:\n",
    "    json.dump(test_data, f, indent=4)\n",
    "with open(split_dir / \"shuffled_val_file_list.json\", \"w\", encoding=\"utf-8\") as f:\n",
    "    json.dump(val_data, f, indent=4)"
   ]
  },
  {
   "cell_type": "code",
   "execution_count": 17,
   "id": "1572e41b-93c8-481a-b6e8-880c6389b8a7",
   "metadata": {},
   "outputs": [],
   "source": [
    "with open(path_obj.data_dir / \"synsetoffset2category.txt\", \"w\", encoding=\"utf-8\") as f:\n",
    "    f.write(\"paprika    paprika\")"
   ]
  },
  {
   "cell_type": "markdown",
   "id": "7aeb638e-65c0-4a68-8167-6d6df09baeed",
   "metadata": {},
   "source": [
    "## Parameters"
   ]
  },
  {
   "cell_type": "code",
   "execution_count": null,
   "id": "afbbb398-dc5a-479e-b4e5-4247b98e77a4",
   "metadata": {},
   "outputs": [],
   "source": [
    "# check gpu usage to set gpu_idx\n",
    "!nvidia-smi"
   ]
  },
  {
   "cell_type": "code",
   "execution_count": 2,
   "id": "8b6d1780-138f-4f36-88a2-496f78a0f804",
   "metadata": {},
   "outputs": [],
   "source": [
    "gpu_idx = \"6\" # str\n",
    "\n",
    "seg_classes = {\n",
    "    \"paprika\": [0, 1],\n",
    "    # 0: non-leaves\n",
    "    # 1: leaves\n",
    "\n",
    "    # padding for 2:49\n",
    "    'Earphone'  : [16, 17, 18],\n",
    "    'Motorbike' : [30, 31, 32, 33, 34, 35],\n",
    "    'Rocket'    : [41, 42, 43],\n",
    "    'Car'       : [8, 9, 10, 11],\n",
    "    'Laptop'    : [28, 29],\n",
    "    'Cap'       : [6, 7],\n",
    "    'Skateboard': [44, 45, 46],\n",
    "    'Mug'       : [36, 37],\n",
    "    'Guitar'    : [19, 20, 21],\n",
    "    'Bag'       : [2, 3, 4, 5],\n",
    "    'Lamp'      : [24, 25, 26, 27],\n",
    "    'Table'     : [47, 48, 49],\n",
    "    'Pistol'    : [38, 39, 40],\n",
    "    'Chair'     : [12, 13, 14, 15],\n",
    "    'Knife'     : [22, 23]\n",
    "}\n",
    "\n",
    "train_args = {\n",
    "    # model params\n",
    "    \"model\"     : \"pointnet2_part_seg_msg\",\n",
    "    # \"model\"    : \"pointnet2_part_seg_ssg\",\n",
    "\n",
    "    # data params\n",
    "    \"normal\"    : True,\n",
    "    \"log_root\"  : path_obj.log_root,\n",
    "    \"log_dir\"   : path_obj.log_dir,\n",
    "    \"data_dir\"  : path_obj.data_dir,\n",
    "\n",
    "    # training params\n",
    "    \"gpu\"       : gpu_idx,\n",
    "    # \"npoint\"    : 2048,\n",
    "    # \"batch_size\": 16,\n",
    "    # \"decay_rate\": 1e-4,\n",
    "    # \"step_size\" : 20,\n",
    "    # \"lr_decay\"  : 0.5,\n",
    "    #\"epoch\"      : 500,\n",
    "    \"epoch\"     : 1000,\n",
    "    # \"optimizer\" : \"Adam\",\n",
    "}\n",
    "test_args = {\n",
    "    # data params\n",
    "    \"normal\"    : True,\n",
    "    \"log_root\"  : path_obj.log_root,\n",
    "    \"log_dir\"   : path_obj.log_dir,\n",
    "    \"data_dir\"  : path_obj.data_dir,\n",
    "\n",
    "    # testing params\n",
    "    \"gpu\"       : gpu_idx,\n",
    "    # \"num_points\": 2048,\n",
    "    # \"batch_size\": 24,\n",
    "    # \"num_votes\" : 3,\n",
    "}"
   ]
  },
  {
   "cell_type": "markdown",
   "id": "4dad0fd4-bd40-4393-ae76-2e4a36621ba9",
   "metadata": {},
   "source": [
    "## Training"
   ]
  },
  {
   "cell_type": "code",
   "execution_count": null,
   "id": "42afab94-39aa-41b0-81bd-c5e820211c6b",
   "metadata": {},
   "outputs": [],
   "source": [
    "train.main(\n",
    "    train.CommandLineArgs(**train_args),\n",
    "    seg_classes\n",
    ")"
   ]
  },
  {
   "cell_type": "markdown",
   "id": "4e305824-7cd1-4fba-91b8-5f15b4f7d0d0",
   "metadata": {},
   "source": [
    "## Testing"
   ]
  },
  {
   "cell_type": "code",
   "execution_count": null,
   "id": "85e08dc5-782a-4ec5-8b4d-b80cb5568a4d",
   "metadata": {},
   "outputs": [],
   "source": [
    "(\n",
    "    test_metrics,\n",
    "    shape_ious,\n",
    "    total_correct_class,\n",
    "    total_seen_class\n",
    ") = test.main(\n",
    "    test.CommandLineArgs(**test_args),\n",
    "    seg_classes\n",
    ")"
   ]
  },
  {
   "cell_type": "code",
   "execution_count": 8,
   "id": "a87aac9c-1018-4832-bc52-affc4296773c",
   "metadata": {},
   "outputs": [
    {
     "data": {
      "text/plain": [
       "({'accuracy': np.float64(0.8492094636694786),\n",
       "  'class_avg_accuracy': np.float64(nan),\n",
       "  'class_avg_iou': np.float64(nan),\n",
       "  'instance_avg_iou': np.float64(0.6821685047558276)},\n",
       " np.float64(0.6821685047558276))"
      ]
     },
     "execution_count": 8,
     "metadata": {},
     "output_type": "execute_result"
    }
   ],
   "source": [
    "test_metrics, shape_ious[\"paprika\"]"
   ]
  },
  {
   "cell_type": "code",
   "execution_count": 9,
   "id": "1058529f-91d3-4c93-8ce9-8ca19d9f40fa",
   "metadata": {},
   "outputs": [
    {
     "name": "stdout",
     "output_type": "stream",
     "text": [
      "{0: np.float64(0.6697862220942594), 1: np.float64(0.9504354508196722)}\n"
     ]
    }
   ],
   "source": [
    "seg_ids = [seg_id for seg_val_sublist in seg_classes.values() for seg_id in seg_val_sublist]\n",
    "seg_correct = dict(zip(range(len(seg_ids)), total_correct_class))\n",
    "seg_total = dict(zip(range(len(seg_ids)), total_seen_class))\n",
    "\n",
    "seg_acc = {}\n",
    "for id, correct_n in seg_correct.items():\n",
    "    total_n = seg_total[id]\n",
    "    if total_n == 0:\n",
    "        seg_acc[id] = 0\n",
    "    else:\n",
    "        seg_acc[id] = correct_n / total_n\n",
    "# print(seg_acc)\n",
    "\n",
    "seg_class_acc = {}\n",
    "for cat in seg_classes:\n",
    "    seg_class_acc[cat] = {}\n",
    "    for id in seg_classes[cat]:\n",
    "        seg_class_acc[cat][id] = seg_acc[id]\n",
    "\n",
    "pprint(seg_class_acc[\"paprika\"])"
   ]
  }
 ],
 "metadata": {
  "kernelspec": {
   "display_name": "Python 3 (ipykernel)",
   "language": "python",
   "name": "python3"
  },
  "language_info": {
   "codemirror_mode": {
    "name": "ipython",
    "version": 3
   },
   "file_extension": ".py",
   "mimetype": "text/x-python",
   "name": "python",
   "nbconvert_exporter": "python",
   "pygments_lexer": "ipython3",
   "version": "3.12.9"
  }
 },
 "nbformat": 4,
 "nbformat_minor": 5
}
