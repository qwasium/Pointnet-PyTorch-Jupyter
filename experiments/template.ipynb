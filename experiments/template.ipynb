{
 "cells": [
  {
   "cell_type": "markdown",
   "id": "a63817b2-90bf-4c49-88fb-ab777f3a90b4",
   "metadata": {},
   "source": [
    "# Experiment Template Notebook"
   ]
  },
  {
   "cell_type": "code",
   "execution_count": 2,
   "id": "858a1b1c-525e-449d-9c8a-f57d6bf78802",
   "metadata": {},
   "outputs": [],
   "source": [
    "import os\n",
    "from pathlib import Path\n",
    "from pprint import pprint\n",
    "\n",
    "from exp_utils import Utils, JumpDir\n",
    "HERE = Utils.where_am_i()\n",
    "DATA_ROOT = HERE / \"..\" / \"..\" / \"data\"\n",
    "LOG_ROOT = DATA_ROOT / \"pointnet-log\"\n",
    "\n",
    "with JumpDir(HERE / \"..\", HERE):\n",
    "    import train_partseg as train\n",
    "    import test_partseg as test\n"
   ]
  },
  {
   "cell_type": "markdown",
   "id": "7aeb638e-65c0-4a68-8167-6d6df09baeed",
   "metadata": {},
   "source": [
    "## Parameters"
   ]
  },
  {
   "cell_type": "code",
   "execution_count": 3,
   "id": "8b6d1780-138f-4f36-88a2-496f78a0f804",
   "metadata": {},
   "outputs": [],
   "source": [
    "log_fold = \"\"              # experiment name\n",
    "data_path = DATA_DIR / \"\"  # data path\n",
    "gpu_idx = \"6\"              # str\n",
    "\n",
    "train_args = {\n",
    "    # model params\n",
    "    \"model\"     : \"pointnet2_part_seg_msg\",\n",
    "    # \"model\"    : \"pointnet2_part_seg_ssg\",\n",
    "\n",
    "    # data params\n",
    "    \"normal\"    : True,\n",
    "    \"log_root\"  : LOG_ROOT,\n",
    "    \"log_dir\"   : log_fold,\n",
    "    \"data_dir\"  : data_path,\n",
    "\n",
    "    # training params\n",
    "    \"gpu\"       : gpu_idx,\n",
    "    # \"npoint\"    : 2048,\n",
    "    # \"batch_size\": 16,\n",
    "    # \"decay_rate\": 1e-4,\n",
    "    # \"step_size\" : 20,\n",
    "    # \"lr_decay\"  : 0.5,\n",
    "    \"epoch\"     : 500,\n",
    "    # \"optimizer\" : \"Adam\",\n",
    "}\n",
    "test_args = {\n",
    "    # data params\n",
    "    \"normal\"    : True,\n",
    "    \"log_root\"  : LOG_ROOT,\n",
    "    \"log_dir\"   : log_fold,\n",
    "    \"data_dir\"  : data_path,\n",
    "\n",
    "    # testing params\n",
    "    \"gpu\"       : gpu_idx,\n",
    "    # \"num_points\": 2048,\n",
    "    # \"batch_size\": 24,\n",
    "    # \"num_votes\" : 3,\n",
    "}\n",
    "seg_classes = {\n",
    "    \"Paprika\": [0, 1]\n",
    "}"
   ]
  },
  {
   "cell_type": "markdown",
   "id": "4dad0fd4-bd40-4393-ae76-2e4a36621ba9",
   "metadata": {},
   "source": [
    "## Training"
   ]
  },
  {
   "cell_type": "code",
   "execution_count": null,
   "id": "42afab94-39aa-41b0-81bd-c5e820211c6b",
   "metadata": {},
   "outputs": [],
   "source": [
    "train.main(\n",
    "    train.CommandLineArgs(**train_args),\n",
    "    seg_classes\n",
    ")"
   ]
  },
  {
   "cell_type": "markdown",
   "id": "4e305824-7cd1-4fba-91b8-5f15b4f7d0d0",
   "metadata": {},
   "source": [
    "## Testing"
   ]
  },
  {
   "cell_type": "code",
   "execution_count": null,
   "id": "85e08dc5-782a-4ec5-8b4d-b80cb5568a4d",
   "metadata": {},
   "outputs": [],
   "source": [
    "(\n",
    "    test_matrics,\n",
    "    shape_ious,\n",
    "    total_correct_class,\n",
    "    total_seen_class\n",
    ") = test.main(\n",
    "    test.CommandLineArgs(**test_args),\n",
    "    seg_classes\n",
    ")"
   ]
  },
  {
   "cell_type": "code",
   "execution_count": null,
   "id": "a87aac9c-1018-4832-bc52-affc4296773c",
   "metadata": {},
   "outputs": [],
   "source": [
    "test_metrics, shape_ious"
   ]
  },
  {
   "cell_type": "code",
   "execution_count": null,
   "id": "3211678b-d7d0-42a7-85b8-8984c70f0afd",
   "metadata": {},
   "outputs": [],
   "source": [
    "seg_correct = dict(zip(range(len(seg_ids)), total_correct_class))\n",
    "seg_total = dict(zip(range(len(seg_ids)), total_seen_class))\n",
    "\n",
    "seg_acc = {}\n",
    "for id, correct_n in seg_correct.items():\n",
    "    total_n = seg_total[id]\n",
    "    if total_n == 0:\n",
    "        seg_acc[id] = 0\n",
    "    else:\n",
    "        seg_acc[id] = correct_n / total_n\n",
    "# print(seg_acc)\n",
    "\n",
    "seg_class_acc = {}\n",
    "for cat in seg_classes:\n",
    "    seg_class_acc[cat] = {}\n",
    "    for id in seg_classes[cat]:\n",
    "        seg_class_acc[cat][id] = seg_acc[id]\n",
    "\n",
    "pprint(seg_class_acc)"
   ]
  }
 ],
 "metadata": {
  "kernelspec": {
   "display_name": "Python 3 (ipykernel)",
   "language": "python",
   "name": "python3"
  },
  "language_info": {
   "codemirror_mode": {
    "name": "ipython",
    "version": 3
   },
   "file_extension": ".py",
   "mimetype": "text/x-python",
   "name": "python",
   "nbconvert_exporter": "python",
   "pygments_lexer": "ipython3",
   "version": "3.12.9"
  }
 },
 "nbformat": 4,
 "nbformat_minor": 5
}
