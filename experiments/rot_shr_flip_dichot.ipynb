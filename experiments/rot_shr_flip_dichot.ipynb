{
 "cells": [
  {
   "cell_type": "markdown",
   "id": "a63817b2-90bf-4c49-88fb-ab777f3a90b4",
   "metadata": {},
   "source": [
    "# Experiment all data to dichotomous classificationabs\n",
    "\n",
    "## Data\n",
    "\n",
    "- use augmented data:\n",
    "  - rotated: all\n",
    "  - shear: all\n",
    "  - flip: all\n",
    "- classify:\n",
    "  - leaves\n",
    "  - non-leaves\n",
    "\n",
    "First group the original data (not augmented) into\n",
    "\n",
    "- Training data\n",
    "- Validation data\n",
    "- Testing data\n",
    "\n",
    "Then augmented data from...\n",
    "\n",
    "- training data is used for training.\n",
    "- validation data is used for training.\n",
    "- test data is not used.\n",
    "\n",
    "| data | augmented? | usage |\n",
    "| :-- | :-: | :-: |\n",
    "| train original              | no  | training |\n",
    "| train original -> augmented | yes | training |\n",
    "| val original                | no  | validation |\n",
    "| val original -> augmented   | yes | training |\n",
    "| test original               | no  | testing |\n",
    "| test original -> augmented  | yes | not used |\n",
    "\n"
   ]
  },
  {
   "cell_type": "code",
   "execution_count": 20,
   "id": "858a1b1c-525e-449d-9c8a-f57d6bf78802",
   "metadata": {},
   "outputs": [
    {
     "name": "stdout",
     "output_type": "stream",
     "text": [
      "DATA_ROOT :  /home/kuwaharah436/Documents/paprika-paper-2024/qwa-work/data\n",
      "HERE :  /home/kuwaharah436/Documents/paprika-paper-2024/qwa-work/pointnet-pytorch-jupyter/experiments\n",
      "PN_REPO :  /home/kuwaharah436/Documents/paprika-paper-2024/qwa-work/pointnet-pytorch-jupyter\n",
      "QW_REPO :  /home/kuwaharah436/Documents/paprika-paper-2024/qwa-work\n",
      "data_dir :  /home/kuwaharah436/Documents/paprika-paper-2024/qwa-work/pointnet-pytorch-jupyter/data/rot-shr-flip-dichot\n",
      "log_dir :  rot-shr-flip-dichot\n",
      "log_root :  /home/kuwaharah436/Documents/paprika-paper-2024/qwa-work/data/pointnet-log\n"
     ]
    }
   ],
   "source": [
    "import os\n",
    "from pathlib import Path\n",
    "import random\n",
    "from pprint import pprint\n",
    "import json\n",
    "import shutil\n",
    "\n",
    "import pandas as pd\n",
    "import torch\n",
    "from tqdm.notebook import tqdm\n",
    "\n",
    "from exp_utils import PointnetPath, PointCloudTable\n",
    "from rot_shr_flip_dichot import main as run_pn\n",
    "\n",
    "path_obj = PointnetPath(\"rot-shr-flip-dichot\")\n",
    "\n",
    "_ = [\n",
    "    print(att,\": \", getattr(path_obj, att))\n",
    "    for att in dir(path_obj)\n",
    "    if not att.startswith(\"__\")\n",
    "    and att != \"where_am_i\"\n",
    "]"
   ]
  },
  {
   "cell_type": "markdown",
   "id": "149b5be0-ee0e-4908-a748-9f06fe5a3020",
   "metadata": {},
   "source": [
    "## Data Prep\n",
    "\n",
    "- `qwa-work/`\n",
    "  - `data/`\n",
    "    - `split-data/`: from here\n",
    "  - `pointnet-pytorch-jupyter/`\n",
    "    - `data/`\n",
    "      - `template/`: to here\n",
    "        - `paprika/`\n",
    "        - `train_test_split/`\n",
    "        - `synsetoffset2category.txt`"
   ]
  },
  {
   "cell_type": "code",
   "execution_count": 2,
   "id": "8817b824-8a84-42d7-b71a-c3ff84184f5f",
   "metadata": {},
   "outputs": [
    {
     "data": {
      "text/plain": [
       "PosixPath('/home/kuwaharah436/Documents/paprika-paper-2024/qwa-work/data/split-data')"
      ]
     },
     "execution_count": 2,
     "metadata": {},
     "output_type": "execute_result"
    }
   ],
   "source": [
    "RAW_PATH = path_obj.DATA_ROOT / \"split-data\"\n",
    "assert RAW_PATH.exists()\n",
    "RAW_PATH#, list(RAW_PATH.iterdir())"
   ]
  },
  {
   "cell_type": "code",
   "execution_count": 3,
   "id": "561cdce8-3d77-45ab-ab59-f12bf5dff59d",
   "metadata": {},
   "outputs": [
    {
     "data": {
      "text/plain": [
       "PosixPath('/home/kuwaharah436/Documents/paprika-paper-2024/qwa-work/data/augmented')"
      ]
     },
     "execution_count": 3,
     "metadata": {},
     "output_type": "execute_result"
    }
   ],
   "source": [
    "AUG_PATH = path_obj.DATA_ROOT / \"augmented\"\n",
    "assert AUG_PATH.exists()\n",
    "AUG_PATH#, list(AUG_PATH.iterdir())"
   ]
  },
  {
   "cell_type": "markdown",
   "id": "ddfa2c56-4569-401f-865b-871d3d86aff3",
   "metadata": {},
   "source": [
    "### txt file clumns\n",
    "\n",
    "| 0 | 1 | 2 | 3 | 4 | 5 | 6 |\n",
    "|---|---|---|---|---|---|---|\n",
    "|`x`|`y`|`z`|`nx`|`ny`|`nz`|`label`: 0\\|1|\n",
    "\n",
    "label\n",
    "\n",
    "- `0`: non-leaf\n",
    "- `1`: leaf"
   ]
  },
  {
   "cell_type": "code",
   "execution_count": 4,
   "id": "ddaa00d0-47be-4418-992a-364b7a7472e7",
   "metadata": {},
   "outputs": [],
   "source": [
    "# Only columns below are left\n",
    "# Order sensitive; be carefull\n",
    "export_cols = [\"x\", \"y\", \"z\", \"nx\", \"ny\", \"nz\", \"label\"]"
   ]
  },
  {
   "cell_type": "code",
   "execution_count": 5,
   "id": "86f77a4e-abef-4095-a22f-ab3646ce32d4",
   "metadata": {},
   "outputs": [
    {
     "name": "stdout",
     "output_type": "stream",
     "text": [
      "{'fruit': 4, 'leaves': 2, 'leaves-fruit': 24, 'marker': 0, 'rod': 1, 'stem': 3}\n",
      "{0: 0, 1: 0, 2: 1, 3: 0, 4: 0}\n"
     ]
    }
   ],
   "source": [
    "with open(\n",
    "    path_obj.DATA_ROOT / \"complete-data\" / \"labels.json\", 'r', encoding=\"utf-8\"\n",
    ") as js_f:\n",
    "    labels = json.load(js_f)\n",
    "label_map = {\n",
    "    labels[\"marker\"]: 0,\n",
    "    labels[\"rod\"]   : 0,\n",
    "    labels[\"stem\"]  : 0,\n",
    "    labels[\"fruit\"] : 0,\n",
    "    labels[\"leaves\"]: 1,\n",
    "}\n",
    "pprint(labels)\n",
    "pprint(label_map)"
   ]
  },
  {
   "cell_type": "markdown",
   "id": "93d9aecc-e197-45cf-8a7f-bde87671e91d",
   "metadata": {},
   "source": [
    "### Read and Write Data"
   ]
  },
  {
   "cell_type": "markdown",
   "id": "15c11ba2-460b-4964-81ad-00a9237164ba",
   "metadata": {},
   "source": [
    "### labels"
   ]
  },
  {
   "cell_type": "code",
   "execution_count": 6,
   "id": "54c4b918-b509-4f6d-a0b1-449ad36586bd",
   "metadata": {},
   "outputs": [
    {
     "name": "stdout",
     "output_type": "stream",
     "text": [
      "{'fruit': 4, 'leaves': 2, 'leaves-fruit': 24, 'marker': 0, 'rod': 1, 'stem': 3}\n"
     ]
    }
   ],
   "source": [
    "with open(\n",
    "    path_obj.DATA_ROOT / \"complete-data\" / \"labels.json\", \"r\", encoding=\"utf-8\"\n",
    ") as js_f:\n",
    "    labels = json.load(js_f)\n",
    "pprint(labels)"
   ]
  },
  {
   "cell_type": "markdown",
   "id": "47ab1f92-dc05-4e08-bb3a-52a516c27031",
   "metadata": {},
   "source": [
    "RAW_PATH / paprika id"
   ]
  },
  {
   "cell_type": "code",
   "execution_count": 7,
   "id": "b6ca9d07-d90e-4010-a150-6dca08cd4af4",
   "metadata": {},
   "outputs": [
    {
     "name": "stdout",
     "output_type": "stream",
     "text": [
      "[PosixPath('/home/kuwaharah436/Documents/paprika-paper-2024/qwa-work/data/split-data/Nagano_0209_2'),\n",
      " PosixPath('/home/kuwaharah436/Documents/paprika-paper-2024/qwa-work/data/split-data/Nagano_0316_2'),\n",
      " PosixPath('/home/kuwaharah436/Documents/paprika-paper-2024/qwa-work/data/split-data/Artega_0309_1'),\n",
      " PosixPath('/home/kuwaharah436/Documents/paprika-paper-2024/qwa-work/data/split-data/Nagano_0309_2'),\n",
      " PosixPath('/home/kuwaharah436/Documents/paprika-paper-2024/qwa-work/data/split-data/Nesditt_0316_2'),\n",
      " PosixPath('/home/kuwaharah436/Documents/paprika-paper-2024/qwa-work/data/split-data/Nesditt_0209_2'),\n",
      " PosixPath('/home/kuwaharah436/Documents/paprika-paper-2024/qwa-work/data/split-data/Trirosso_0209_2'),\n",
      " PosixPath('/home/kuwaharah436/Documents/paprika-paper-2024/qwa-work/data/split-data/Nesditt_0316_1'),\n",
      " PosixPath('/home/kuwaharah436/Documents/paprika-paper-2024/qwa-work/data/split-data/Trirosso_0309_1'),\n",
      " PosixPath('/home/kuwaharah436/Documents/paprika-paper-2024/qwa-work/data/split-data/Nesditt_0309_3'),\n",
      " PosixPath('/home/kuwaharah436/Documents/paprika-paper-2024/qwa-work/data/split-data/Trirosso_0209_1'),\n",
      " PosixPath('/home/kuwaharah436/Documents/paprika-paper-2024/qwa-work/data/split-data/Artega_0209_2'),\n",
      " PosixPath('/home/kuwaharah436/Documents/paprika-paper-2024/qwa-work/data/split-data/Artega_0309_2'),\n",
      " PosixPath('/home/kuwaharah436/Documents/paprika-paper-2024/qwa-work/data/split-data/Nesditt_0309_2'),\n",
      " PosixPath('/home/kuwaharah436/Documents/paprika-paper-2024/qwa-work/data/split-data/Nagano_0316_1'),\n",
      " PosixPath('/home/kuwaharah436/Documents/paprika-paper-2024/qwa-work/data/split-data/Nagano_0209_1')]\n",
      "[PosixPath('/home/kuwaharah436/Documents/paprika-paper-2024/qwa-work/data/augmented/Nagano_0209_2'),\n",
      " PosixPath('/home/kuwaharah436/Documents/paprika-paper-2024/qwa-work/data/augmented/Nagano_0316_2'),\n",
      " PosixPath('/home/kuwaharah436/Documents/paprika-paper-2024/qwa-work/data/augmented/Artega_0309_1'),\n",
      " PosixPath('/home/kuwaharah436/Documents/paprika-paper-2024/qwa-work/data/augmented/Nagano_0309_2'),\n",
      " PosixPath('/home/kuwaharah436/Documents/paprika-paper-2024/qwa-work/data/augmented/Nesditt_0316_2'),\n",
      " PosixPath('/home/kuwaharah436/Documents/paprika-paper-2024/qwa-work/data/augmented/Nesditt_0209_2'),\n",
      " PosixPath('/home/kuwaharah436/Documents/paprika-paper-2024/qwa-work/data/augmented/Trirosso_0209_2'),\n",
      " PosixPath('/home/kuwaharah436/Documents/paprika-paper-2024/qwa-work/data/augmented/Nesditt_0316_1'),\n",
      " PosixPath('/home/kuwaharah436/Documents/paprika-paper-2024/qwa-work/data/augmented/Trirosso_0309_1'),\n",
      " PosixPath('/home/kuwaharah436/Documents/paprika-paper-2024/qwa-work/data/augmented/Nesditt_0309_3'),\n",
      " PosixPath('/home/kuwaharah436/Documents/paprika-paper-2024/qwa-work/data/augmented/Trirosso_0209_1'),\n",
      " PosixPath('/home/kuwaharah436/Documents/paprika-paper-2024/qwa-work/data/augmented/Artega_0209_2'),\n",
      " PosixPath('/home/kuwaharah436/Documents/paprika-paper-2024/qwa-work/data/augmented/Artega_0309_2'),\n",
      " PosixPath('/home/kuwaharah436/Documents/paprika-paper-2024/qwa-work/data/augmented/Nesditt_0309_2'),\n",
      " PosixPath('/home/kuwaharah436/Documents/paprika-paper-2024/qwa-work/data/augmented/Nagano_0316_1'),\n",
      " PosixPath('/home/kuwaharah436/Documents/paprika-paper-2024/qwa-work/data/augmented/Nagano_0209_1')]\n"
     ]
    }
   ],
   "source": [
    "raw_pprkid = list(RAW_PATH.iterdir())\n",
    "aug_pprkid = list(AUG_PATH.iterdir())\n",
    "pprint(raw_pprkid)\n",
    "pprint(aug_pprkid)"
   ]
  },
  {
   "cell_type": "code",
   "execution_count": 8,
   "id": "96f54fae-b58a-4bab-9d98-121cdfc6dfb5",
   "metadata": {},
   "outputs": [
    {
     "data": {
      "text/plain": [
       "6418"
      ]
     },
     "execution_count": 8,
     "metadata": {},
     "output_type": "execute_result"
    }
   ],
   "source": [
    "raw_file_paths = [] # qwa-work/data/split-data/<paprika id>/_*.txt\n",
    "for pprk_dir in RAW_PATH.iterdir():\n",
    "    raw_file_paths = raw_file_paths + list(pprk_dir.iterdir())\n",
    "#raw_file_paths[:10]\n",
    "len(raw_file_paths)"
   ]
  },
  {
   "cell_type": "code",
   "execution_count": 9,
   "id": "c5484f97-0255-4c59-b053-8175c9d4448f",
   "metadata": {},
   "outputs": [
    {
     "data": {
      "text/plain": [
       "7387118"
      ]
     },
     "execution_count": 9,
     "metadata": {},
     "output_type": "execute_result"
    }
   ],
   "source": [
    "aug_file_paths = [] # qwa-work/data/augmented/<paprika id>/*.txt\n",
    "for pprk_dir in AUG_PATH.iterdir():\n",
    "    aug_file_paths = aug_file_paths + list(pprk_dir.iterdir())\n",
    "# aug_file_paths[:10]\n",
    "len(aug_file_paths)"
   ]
  },
  {
   "cell_type": "markdown",
   "id": "bf2fd414-8788-4628-8362-fe36c3af4e6d",
   "metadata": {},
   "source": [
    "original data to augmented data ratio"
   ]
  },
  {
   "cell_type": "code",
   "execution_count": 10,
   "id": "bed9787b-1e97-41be-a36e-7a6183574565",
   "metadata": {},
   "outputs": [
    {
     "data": {
      "text/plain": [
       "1151.0"
      ]
     },
     "execution_count": 10,
     "metadata": {},
     "output_type": "execute_result"
    }
   ],
   "source": [
    "len(aug_file_paths) / len(raw_file_paths)"
   ]
  },
  {
   "cell_type": "markdown",
   "id": "be24d113-24a7-42bb-abf9-44bea27003b7",
   "metadata": {},
   "source": [
    "### Move data"
   ]
  },
  {
   "cell_type": "markdown",
   "id": "5c35d0c9-2ada-4105-a8bb-37afc417b7a9",
   "metadata": {},
   "source": [
    "Convert data from `/data/split-data` and write to `/pointnet-pytorch-jupyter/data/paprika` (path_obj.data_dir / \"paprika\")."
   ]
  },
  {
   "cell_type": "code",
   "execution_count": 11,
   "id": "78060dca-0ab3-4327-8a5d-e9ed915ee7cc",
   "metadata": {},
   "outputs": [],
   "source": [
    "for f_path in raw_file_paths:\n",
    "    # skip json\n",
    "    if f_path.suffix != \".txt\":\n",
    "        continue\n",
    "\n",
    "    # read and prep data\n",
    "    raw_df = pd.read_table(f_path, header=0, sep=\" \")\n",
    "    cleaned_df = PointCloudTable.prep(\n",
    "        raw_df, export_cols, label_map\n",
    "    )\n",
    "    if cleaned_df is None:\n",
    "        continue\n",
    "\n",
    "    # write\n",
    "    out_path = path_obj.data_dir / \"paprika\" / (\n",
    "        f_path.parent.name + f_path.name\n",
    "    )\n",
    "    out_path.parent.mkdir(exist_ok=True, parents=True)\n",
    "    cleaned_df.to_csv(\n",
    "        out_path, sep=\" \", header=False, index=False\n",
    "    )"
   ]
  },
  {
   "cell_type": "markdown",
   "id": "8e7189e5-d43f-41b3-bdcb-bd78e09db990",
   "metadata": {},
   "source": [
    "### Train Test Validation split"
   ]
  },
  {
   "cell_type": "code",
   "execution_count": 11,
   "id": "bf8a5e50-fb2d-4e07-82a4-1c79176df17f",
   "metadata": {},
   "outputs": [
    {
     "data": {
      "text/plain": [
       "(0.7000000000000001, 0.20000000000000004, 0.10000000000000002)"
      ]
     },
     "execution_count": 11,
     "metadata": {},
     "output_type": "execute_result"
    }
   ],
   "source": [
    "train_ratio = 0.7\n",
    "test_ratio  = 0.2\n",
    "val_ratio   = 0.1\n",
    "\n",
    "ratio_sum = (train_ratio + test_ratio + val_ratio)\n",
    "train_ratio = train_ratio / ratio_sum\n",
    "test_ratio = test_ratio / ratio_sum\n",
    "val_ratio = val_ratio / ratio_sum\n",
    "train_ratio, test_ratio, val_ratio"
   ]
  },
  {
   "cell_type": "markdown",
   "id": "288759fa-e1b3-4ca4-b1e0-9be3c9d20edc",
   "metadata": {},
   "source": [
    "Data written to `path_obj.data_dir / \"paprika\"` doesn't include invalid data, i.e. data with `leaves-fruit` label.\n",
    "\n",
    "Choose train, test, and validation data and copy in the corresponding augmented training/validation data."
   ]
  },
  {
   "cell_type": "code",
   "execution_count": 12,
   "id": "7adbf05f-9ee0-46c4-a091-cb845c154dc9",
   "metadata": {},
   "outputs": [
    {
     "data": {
      "text/plain": [
       "(3159354, 902673, 451336)"
      ]
     },
     "execution_count": 12,
     "metadata": {},
     "output_type": "execute_result"
    }
   ],
   "source": [
    "train_data = []\n",
    "test_data = []\n",
    "val_data = []\n",
    "\n",
    "txt_ls = os.listdir(path_obj.data_dir / \"paprika\")\n",
    "txt_ls = [\n",
    "    \"shape_data/paprika/\" + fname.strip(\".tx\") for fname in txt_ls\n",
    "    # if \"rot\" not in fname and \"flip\" not in fname and \"shear\" not in fname\n",
    "]\n",
    "random.shuffle(txt_ls)\n",
    "ls_len = len(txt_ls)\n",
    "train_test_idx = round(ls_len * train_ratio)\n",
    "test_val_idx = train_test_idx + round(ls_len * test_ratio)\n",
    "train_data = train_data + txt_ls[:train_test_idx]\n",
    "test_data = test_data + txt_ls[train_test_idx:test_val_idx]\n",
    "val_data = val_data + txt_ls[test_val_idx:]\n",
    "len(train_data), len(test_data), len(val_data)"
   ]
  },
  {
   "cell_type": "code",
   "execution_count": 13,
   "id": "e9044375-8bb1-4d9c-827e-1401a0c8312a",
   "metadata": {},
   "outputs": [
    {
     "data": {
      "text/plain": [
       "(['shape_data/paprika/Nagano_0316_2_flip-xyz_shear20_136',\n",
       "  'shape_data/paprika/Artega_0209_2_rot60_flip-xyz_shear35_312',\n",
       "  'shape_data/paprika/Artega_0209_2_rot195_flip-xyz_shear35_290'],\n",
       " ['shape_data/paprika/Nagano_0316_2_flip-xyz_shear20_136',\n",
       "  'shape_data/paprika/Artega_0209_2_rot60_flip-xyz_shear35_312',\n",
       "  'shape_data/paprika/Artega_0209_2_rot195_flip-xyz_shear35_290'],\n",
       " ['shape_data/paprika/Artega_0209_2_rot285_shear45_182',\n",
       "  'shape_data/paprika/Trirosso_0309_1_rot135_shear50_446',\n",
       "  'shape_data/paprika/Nagano_0316_1_rot330_flip-x_shear10_324'],\n",
       " ['shape_data/paprika/Nesditt_0316_1_rot45_shear10_88',\n",
       "  'shape_data/paprika/Artega_0209_2_rot90_flip-xyz_shear35_194',\n",
       "  'shape_data/paprika/Nesditt_0316_1_rot345_flip-xyz_shear10_398'])"
      ]
     },
     "execution_count": 13,
     "metadata": {},
     "output_type": "execute_result"
    }
   ],
   "source": [
    "txt_ls[:3], train_data[:3], test_data[:3], val_data[:3]"
   ]
  },
  {
   "cell_type": "markdown",
   "id": "fc27f590-7b55-4298-ad68-99d3582a0ad5",
   "metadata": {},
   "source": [
    "35 hrs to run."
   ]
  },
  {
   "cell_type": "code",
   "execution_count": 25,
   "id": "9d0242e1-cbf4-4049-afd5-3a59ab186a63",
   "metadata": {},
   "outputs": [
    {
     "data": {
      "application/vnd.jupyter.widget-view+json": {
       "model_id": "c05ec2e449734abcb38658e8d21e9613",
       "version_major": 2,
       "version_minor": 0
      },
      "text/plain": [
       "  0%|          | 0/7387118 [00:00<?, ?it/s]"
      ]
     },
     "metadata": {},
     "output_type": "display_data"
    }
   ],
   "source": [
    "for f_path in tqdm(aug_file_paths):\n",
    "    pprk_id = f_path.parent.name\n",
    "    split_id = f_path.stem.split(\"_\")[-1]\n",
    "\n",
    "    # # if failed and rerunning this cell\n",
    "    # if (\n",
    "    #     path_obj.data_dir / \"paprika\" / (pprk_id + \"_\" + f_path.name)\n",
    "    # ).exists():\n",
    "    #     continue\n",
    "\n",
    "    # don't use augmented data for/from testing\n",
    "    if f\"shape_data/paprika/{pprk_id}_{split_id}\" in test_data:\n",
    "        continue\n",
    "\n",
    "    # convert data\n",
    "    aug_df = pd.read_table(f_path, header=0, sep=\" \")\n",
    "    cleaned_df = PointCloudTable.prep(\n",
    "        aug_df, export_cols, label_map\n",
    "    )\n",
    "    if cleaned_df is None: # skip invalid label\n",
    "        continue\n",
    "\n",
    "    # data should be in train_data or val_data\n",
    "    fname = pprk_id + \"_\" + f_path.name\n",
    "    if not f\"shape_data/paprika/{pprk_id}_{split_id}\" in val_data:\n",
    "        if not f\"shape_data/paprika/{pprk_id}_{split_id}\" in train_data:\n",
    "            raise ValueError(\n",
    "                f\"Data absent from train, test, and val:{f_path}\"\n",
    "            )\n",
    "\n",
    "    # write\n",
    "    cleaned_df.to_csv(\n",
    "        path_obj.data_dir / \"paprika\" / fname,\n",
    "        sep=\" \",\n",
    "        header=False,\n",
    "        index=False\n",
    "    )\n",
    "    train_data.append(f\"shape_data/paprika/{Path(fname).stem}\")"
   ]
  },
  {
   "cell_type": "code",
   "execution_count": 26,
   "id": "db66bcf1-72c3-4df9-8c3c-ba18275c82ac",
   "metadata": {},
   "outputs": [
    {
     "data": {
      "text/plain": [
       "(4074399, 902673, 451336)"
      ]
     },
     "execution_count": 26,
     "metadata": {},
     "output_type": "execute_result"
    }
   ],
   "source": [
    "train_date = list(set(train_data))\n",
    "random.shuffle(train_data)\n",
    "len(train_data), len(test_data), len(val_data)"
   ]
  },
  {
   "cell_type": "code",
   "execution_count": 27,
   "id": "f5e74b91-e74c-4d74-9d95-075a01a6ca9b",
   "metadata": {},
   "outputs": [
    {
     "data": {
      "text/plain": [
       "(['shape_data/paprika/Artega_0209_2_rot75_shear5_73',\n",
       "  'shape_data/paprika/Nesditt_0309_3_rot150_shear10_312',\n",
       "  'shape_data/paprika/Nesditt_0316_1_rot330_flip-x_shear40_355'],\n",
       " ['shape_data/paprika/Artega_0209_2_rot285_shear45_182',\n",
       "  'shape_data/paprika/Trirosso_0309_1_rot135_shear50_446',\n",
       "  'shape_data/paprika/Nagano_0316_1_rot330_flip-x_shear10_324'],\n",
       " ['shape_data/paprika/Nesditt_0316_1_rot45_shear10_88',\n",
       "  'shape_data/paprika/Artega_0209_2_rot90_flip-xyz_shear35_194',\n",
       "  'shape_data/paprika/Nesditt_0316_1_rot345_flip-xyz_shear10_398'])"
      ]
     },
     "execution_count": 27,
     "metadata": {},
     "output_type": "execute_result"
    }
   ],
   "source": [
    "train_data[:3], test_data[:3], val_data[:3]"
   ]
  },
  {
   "cell_type": "code",
   "execution_count": 28,
   "id": "89aa21c1-9d5c-4207-b5a1-9bcdca3f895a",
   "metadata": {},
   "outputs": [],
   "source": [
    "split_dir = path_obj.data_dir / \"train_test_split\"\n",
    "split_dir.mkdir(exist_ok=True, parents=False)\n",
    "with open(split_dir / \"shuffled_train_file_list.json\", \"w\", encoding=\"utf-8\") as f:\n",
    "    json.dump(train_data, f, indent=4)\n",
    "with open(split_dir / \"shuffled_test_file_list.json\", \"w\", encoding=\"utf-8\") as f:\n",
    "    json.dump(test_data, f, indent=4)\n",
    "with open(split_dir / \"shuffled_val_file_list.json\", \"w\", encoding=\"utf-8\") as f:\n",
    "    json.dump(val_data, f, indent=4)"
   ]
  },
  {
   "cell_type": "code",
   "execution_count": 29,
   "id": "1572e41b-93c8-481a-b6e8-880c6389b8a7",
   "metadata": {},
   "outputs": [],
   "source": [
    "with open(path_obj.data_dir / \"synsetoffset2category.txt\", \"w\", encoding=\"utf-8\") as f:\n",
    "    f.write(\"paprika    paprika\")"
   ]
  },
  {
   "cell_type": "markdown",
   "id": "4dad0fd4-bd40-4393-ae76-2e4a36621ba9",
   "metadata": {},
   "source": [
    "## Training/Testing\n",
    "\n",
    "```bash\n",
    "python3 rot_shr_flip_dichot.py -g <gpu id>\n",
    "```\n",
    "\n",
    "| epoch | Training acc | test acc | mIoU    | leaves IoU | non-leaves IoU |\n",
    "| :---: | :----------: | :------: | :-----: | :--------: | :------------: |\n",
    "| 10    | 0.88205      | 0.88663  | 0.73971 | 0.9799301  | 0.72474459     |\n",
    "| 20    | 0.89357      | 0.90619  | 0.75366 | 0.953014   | 0.8249411      |\n",
    "| 30    | 0.89529      | 0.897658 | 0.74596 | 0.9782382  | 0.7585358258   |\n"
   ]
  },
  {
   "cell_type": "code",
   "execution_count": 19,
   "id": "3f267bff-21bb-49a2-820b-f8646bea8a32",
   "metadata": {},
   "outputs": [
    {
     "name": "stdout",
     "output_type": "stream",
     "text": [
      "epoch: 0\n",
      "  train acc: 0.8952892342765766\n",
      "  test acc : 0.8976525369608859\n",
      "  mIoU     : 0.7453994983106933\n",
      "epoch: 0\n",
      "  train acc: 0.8935708145885936\n",
      "  test acc : 0.9057473522388506\n",
      "  mIoU     : 0.7529464878076988\n",
      "epoch: 0\n",
      "  train acc: 0.8820471640919566\n",
      "  test acc : 0.8867728330798501\n",
      "  mIoU     : 0.7396048878621354\n",
      "epoch: 0\n",
      "  train acc: 0.8952892342765766\n",
      "  test acc : 0.8976525369608859\n",
      "  mIoU     : 0.7453994983106933\n"
     ]
    }
   ],
   "source": [
    "chk_path = path_obj.log_root / \"part_seg\" / path_obj.log_dir / \"checkpoints\"\n",
    "for pt in chk_path.iterdir():\n",
    "    chk = torch.load(pt)\n",
    "    print(f\"epoch: {chk['epoch']}\")\n",
    "    print(f\"  train acc: {chk['train_acc']}\")\n",
    "    print(f\"  test acc : {chk['test_acc']}\")\n",
    "    print(f\"  mIoU     : {chk['instance_avg_iou']}\")"
   ]
  },
  {
   "cell_type": "code",
   "execution_count": null,
   "id": "afbbb398-dc5a-479e-b4e5-4247b98e77a4",
   "metadata": {},
   "outputs": [],
   "source": [
    "# check gpu usage to set gpu_idx\n",
    "!nvidia-smi"
   ]
  },
  {
   "cell_type": "code",
   "execution_count": null,
   "id": "8b6d1780-138f-4f36-88a2-496f78a0f804",
   "metadata": {},
   "outputs": [],
   "source": [
    "# gpu_idx = \"6\" # str\n",
    "\n",
    "# seg_classes = {\n",
    "#     \"paprika\": [0, 1],\n",
    "#     # 0: non-leaves\n",
    "#     # 1: leaves\n",
    "\n",
    "#     # padding for 2:49\n",
    "#     'Earphone'  : [16, 17, 18],\n",
    "#     'Motorbike' : [30, 31, 32, 33, 34, 35],\n",
    "#     'Rocket'    : [41, 42, 43],\n",
    "#     'Car'       : [8, 9, 10, 11],\n",
    "#     'Laptop'    : [28, 29],\n",
    "#     'Cap'       : [6, 7],\n",
    "#     'Skateboard': [44, 45, 46],\n",
    "#     'Mug'       : [36, 37],\n",
    "#     'Guitar'    : [19, 20, 21],\n",
    "#     'Bag'       : [2, 3, 4, 5],\n",
    "#     'Lamp'      : [24, 25, 26, 27],\n",
    "#     'Table'     : [47, 48, 49],\n",
    "#     'Pistol'    : [38, 39, 40],\n",
    "#     'Chair'     : [12, 13, 14, 15],\n",
    "#     'Knife'     : [22, 23]\n",
    "# }\n",
    "\n",
    "# train_args = {\n",
    "#     # model params\n",
    "#     \"model\"     : \"pointnet2_part_seg_msg\",\n",
    "#     # \"model\"    : \"pointnet2_part_seg_ssg\",\n",
    "\n",
    "#     # data params\n",
    "#     \"normal\"    : True,\n",
    "#     \"log_root\"  : path_obj.log_root,\n",
    "#     \"log_dir\"   : path_obj.log_dir,\n",
    "#     \"data_dir\"  : path_obj.data_dir,\n",
    "\n",
    "#     # training params\n",
    "#     \"gpu\"       : gpu_idx,\n",
    "#     # \"npoint\"    : 2048,\n",
    "#     # \"batch_size\": 16,\n",
    "#     # \"decay_rate\": 1e-4,\n",
    "#     # \"step_size\" : 20,\n",
    "#     # \"lr_decay\"  : 0.5,\n",
    "#     #\"epoch\"      : 500,\n",
    "#     \"epoch\": 10\n",
    "#     # \"optimizer\" : \"Adam\",\n",
    "# }\n",
    "# test_args = {\n",
    "#     # data params\n",
    "#     \"normal\"    : True,\n",
    "#     \"log_root\"  : path_obj.log_root,\n",
    "#     \"log_dir\"   : path_obj.log_dir,\n",
    "#     \"data_dir\"  : path_obj.data_dir,\n",
    "\n",
    "#     # testing params\n",
    "#     \"gpu\"       : gpu_idx,\n",
    "#     # \"num_points\": 2048,\n",
    "#     # \"batch_size\": 24,\n",
    "#     # \"num_votes\" : 3,\n",
    "# }"
   ]
  },
  {
   "cell_type": "code",
   "execution_count": null,
   "id": "42afab94-39aa-41b0-81bd-c5e820211c6b",
   "metadata": {},
   "outputs": [],
   "source": [
    "# Might be a good idea to run the python script from the shell\n",
    "!python3 rot_shr_flip_dichot.py -g 7\n",
    "\n",
    "# met, iou, acc = run_pn(\n",
    "#     gpu_idx,\n",
    "#     path_obj,\n",
    "#     seg_classes=seg_classes,\n",
    "#     train_args=train_args,\n",
    "#     test_args=test_args\n",
    "# )\n",
    "# pprint(f\"test metrics: {met}\")\n",
    "# print(f\"iou: {iou}\")\n",
    "# pprint(f\"acc: {acc}\")"
   ]
  }
 ],
 "metadata": {
  "kernelspec": {
   "display_name": "Python 3 (ipykernel)",
   "language": "python",
   "name": "python3"
  },
  "language_info": {
   "codemirror_mode": {
    "name": "ipython",
    "version": 3
   },
   "file_extension": ".py",
   "mimetype": "text/x-python",
   "name": "python",
   "nbconvert_exporter": "python",
   "pygments_lexer": "ipython3",
   "version": "3.12.9"
  }
 },
 "nbformat": 4,
 "nbformat_minor": 5
}
