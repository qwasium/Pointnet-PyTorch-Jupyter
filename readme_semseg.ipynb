{
 "cells": [
  {
   "cell_type": "markdown",
   "id": "62361613",
   "metadata": {},
   "source": [
    "# Semantic Segmentation (S3DIS)\n",
    "\n",
    "### Jupyter Notebook implementation\n",
    "\n",
    "First read the [README](README.md) file if you're new.\n",
    "\n",
    "This is an example of using the code from Jupyter Notebook.\n",
    "\n",
    "## Contents\n",
    "\n",
    "- [Data Preparation](#data-preparation)\n",
    "- [Training](#training)\n",
    "- [Testing](#testing)"
   ]
  },
  {
   "cell_type": "markdown",
   "id": "4746ca47",
   "metadata": {},
   "source": [
    "## Imports"
   ]
  },
  {
   "cell_type": "code",
   "execution_count": null,
   "id": "5b653217",
   "metadata": {},
   "outputs": [],
   "source": [
    "from pprint import pprint\n",
    "from pathlib import Path\n",
    "\n",
    "import torch\n",
    "print(f'CUDA available?: {torch.cuda.is_available()}')\n",
    "\n",
    "import train_semseg\n",
    "import test_semseg\n",
    "from data_utils.collect_indoor3d_data import collect_indoor3d_data"
   ]
  },
  {
   "cell_type": "markdown",
   "id": "0e757098",
   "metadata": {},
   "source": [
    "## **Optional**: External Directory\n",
    "\n",
    "If you want to put the log and data directories in a different location, you can use the following code."
   ]
  },
  {
   "cell_type": "code",
   "execution_count": null,
   "id": "7022ef66",
   "metadata": {},
   "outputs": [],
   "source": [
    "root_log_dir = Path('..', 'log').resolve()\n",
    "DATA_DIR = str(Path('..', 'data').resolve())\n",
    "semseg_raw_data_dir = str(Path(DATA_DIR, 's3dis', 'Stanford3dDataset_v1.2_Aligned_Version').resolve())\n",
    "semseg_data_dir = str(Path(DATA_DIR, 'stanford_indoor3d').resolve())\n",
    "\n",
    "root_log_dir, DATA_DIR, semseg_raw_data_dir, semseg_data_dir"
   ]
  },
  {
   "cell_type": "markdown",
   "id": "a9ae209f",
   "metadata": {},
   "source": [
    "---"
   ]
  },
  {
   "cell_type": "markdown",
   "id": "0af1d9d5",
   "metadata": {},
   "source": [
    "## Data\n",
    "\n",
    "- S3DIS dataset in text format\n",
    "- Download `Stanford3dDataset_v1.2.zip` from:\n",
    "  - [https://cvg-data.inf.ethz.ch/s3dis/](https://cvg-data.inf.ethz.ch/s3dis/)\n",
    "\n",
    "Default `--data_dir` is `'data/s3dis/Stanford3dDataset_v1.2_Aligned_Version'`.\n",
    "\n",
    "- `data/`\n",
    "  - `s3dis/`\n",
    "    - `ReadMe.txt`\n",
    "    - `Stanford3dDataset_v1.2_Aligned_Version/`\n",
    "      - `Area_1/`\n",
    "        - `conferenceRoom_1/`\n",
    "          - `Annotations/`\n",
    "            - `beam_1.txt`\n",
    "            - ...\n",
    "          - `conferenceRoom_1.txt`\n",
    "        - ...\n",
    "      - ...\n",
    "\n",
    "### **OUTPUT**\n",
    "\n",
    "- TRAINING: `<log_root>/semantic_segmentation/<args.log_dir or TIME>/checkpoints/best_model.pth`\n",
    "- PREDICTION: `None (only prints accuracy)`\n"
   ]
  },
  {
   "cell_type": "markdown",
   "id": "f81f63cd",
   "metadata": {},
   "source": [
    "---"
   ]
  },
  {
   "cell_type": "markdown",
   "id": "273d8ee2",
   "metadata": {},
   "source": [
    "## Data preparation\n",
    "\n",
    "Use `data_utils/collect_indoor3d_data.py` to convert the dataset.\n",
    "\n",
    "This will create a new directory `data/stanford_indoor3d/` (or whatever you specify with argument)."
   ]
  },
  {
   "cell_type": "code",
   "execution_count": null,
   "id": "be904f7c",
   "metadata": {},
   "outputs": [],
   "source": [
    "!python3 data_utils/collect_indoor3d_data.py -h"
   ]
  },
  {
   "cell_type": "markdown",
   "id": "0140406f",
   "metadata": {},
   "source": [
    "```bash\n",
    "python3 data_utils/collect_inddoor3d_data.py \\\n",
    "    --data_path data/s3dis/Stanford3dDataset_v1.2_Alligned_Version \\\n",
    "    --output_path data/stanford_indoor3d \\\n",
    "    # --skip_existing\n",
    "```"
   ]
  },
  {
   "cell_type": "code",
   "execution_count": null,
   "id": "cdc06ff0",
   "metadata": {},
   "outputs": [],
   "source": [
    "collect_indoor3d_data(\n",
    "    data_path     = semseg_raw_data_dir,\n",
    "    output_path   = semseg_data_dir,\n",
    "    skip_existing = False,\n",
    ")"
   ]
  },
  {
   "cell_type": "markdown",
   "id": "f895fd96",
   "metadata": {},
   "source": [
    "---"
   ]
  },
  {
   "cell_type": "markdown",
   "id": "3a825320",
   "metadata": {},
   "source": [
    "## Training\n",
    "\n",
    "`train_semseg.py` is used to train the model.\n",
    "\n",
    "Check all the arguments:"
   ]
  },
  {
   "cell_type": "code",
   "execution_count": null,
   "id": "ef1bc110",
   "metadata": {},
   "outputs": [],
   "source": [
    "!python3 train_semseg.py -h"
   ]
  },
  {
   "cell_type": "markdown",
   "id": "7d897f4b",
   "metadata": {},
   "source": [
    "The following is the same as running:\n",
    "\n",
    "```bash\n",
    "python3 train_semseg.py \\\n",
    "     --model pointnet2_sem_seg \\\n",
    "     --test_area 5 \\\n",
    "     --log_dir pointnet2_sem_seg\n",
    "```"
   ]
  },
  {
   "cell_type": "code",
   "execution_count": null,
   "id": "a71cda86",
   "metadata": {},
   "outputs": [],
   "source": [
    "args = {\n",
    "    'model'    : 'pointnet2_sem_seg',\n",
    "    'test_area': 5,\n",
    "    'log_dir'  : 'pointnet2_sem_seg',\n",
    "    'log_root' : root_log_dir,\n",
    "    'data_dir' : semseg_data_dir,\n",
    "    'notebook' : True\n",
    "}\n",
    "semseg_train_args = train_semseg.CommandLineArgs(**args)\n",
    "train_semseg.main(semseg_train_args)"
   ]
  },
  {
   "cell_type": "markdown",
   "id": "7b8358e6",
   "metadata": {},
   "source": [
    "---"
   ]
  },
  {
   "cell_type": "markdown",
   "id": "eaf6c666",
   "metadata": {},
   "source": [
    "## Testing\n",
    "\n",
    "`test_semseg.py` is used to test the model.\n",
    "\n",
    "Check all the arguments:"
   ]
  },
  {
   "cell_type": "code",
   "execution_count": null,
   "id": "b4648f78",
   "metadata": {},
   "outputs": [],
   "source": [
    "!python test_semseg.py -h"
   ]
  },
  {
   "cell_type": "markdown",
   "id": "ee894569",
   "metadata": {},
   "source": [
    "The following is the same as running:\n",
    "\n",
    "```bash\n",
    "python3 test_semseg.py \\\n",
    "     --log_dir pointnet2_sem_seg \\\n",
    "     --test_area 5 \\\n",
    "     --visual \\\n",
    "     # --log_root ../log \\\n",
    "     # --data_dir ../data/stanford_indoor3d\n",
    "```"
   ]
  },
  {
   "cell_type": "code",
   "execution_count": null,
   "id": "dfc00a7c",
   "metadata": {},
   "outputs": [],
   "source": [
    "args = {\n",
    "    'log_dir'  : 'pointnet2_sem_seg',\n",
    "    'test_area': 5,\n",
    "    'visual'   : True, # in source: action='store_true'\n",
    "    'log_root' : root_log_dir,\n",
    "    'data_dir' : semseg_data_dir,\n",
    "    'notebook' : True\n",
    "}\n",
    "semseg_test_args = test_semseg.CommandLineArgs(**args)\n",
    "test_semseg.main(semseg_test_args)"
   ]
  }
 ],
 "metadata": {
  "kernelspec": {
   "display_name": "pointnet312",
   "language": "python",
   "name": "python3"
  },
  "language_info": {
   "codemirror_mode": {
    "name": "ipython",
    "version": 3
   },
   "file_extension": ".py",
   "mimetype": "text/x-python",
   "name": "python",
   "nbconvert_exporter": "python",
   "pygments_lexer": "ipython3",
   "version": "3.12.3"
  }
 },
 "nbformat": 4,
 "nbformat_minor": 5
}
